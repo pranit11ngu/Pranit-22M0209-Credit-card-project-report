{
 "cells": [
  {
   "cell_type": "markdown",
   "id": "4fa8e204",
   "metadata": {},
   "source": [
    "#                                  Credit Card Fraud Detection "
   ]
  },
  {
   "cell_type": "markdown",
   "id": "e06951cc",
   "metadata": {},
   "source": [
    "# Work flow :-\n",
    "\n",
    "1. Importing the dependencies\n",
    "\n",
    "2. Credit Card Data\n",
    "     2.1 Loading Credit Card data to pandas dataframe\n",
    "     2.2 Visualizing first 5 and Last 5 rows of dataset\n",
    "     \n",
    "3. Data Analysis\n",
    "     3.1 Checking Non-null count and type of dataframme\n",
    "     3.2 Checking the Number of missing values in column\n",
    "     3.3 Distribution of Normal and fraudulent transaction\n",
    "     3.4 Comparing the values for both transaction\n",
    "     3.5 Comparing the values for both transaction\n",
    "     \n",
    "4. Data preprosessing\n",
    "     4.1 Undersampling of Legit data\n",
    "     4.2 Creating New balanced dataset\n",
    "     4.3 Analysing New balanced dataset\n",
    "     4.4 Splitting the data into feature and target data\n",
    "     4.5 Feature scaling\n",
    "     \n",
    "5. Splitting the data \n",
    "     5.1 Split the data into training set and test set\n",
    "     \n",
    "6.Model\n",
    "     6.1 Logistic Regression\n",
    "          6.1.1 Fit the data\n",
    "          6.1.2 Accuracy of logistic regression\n",
    "          6.1.3 Classification report\n",
    "     6.2 Principle Componenet analysis\n",
    "          6.2.1 Fit the Model\n",
    "          6.2.2 Accuracy of PCA\n",
    "          6.3.3 Classification report\n",
    "     6.3 Decision trees\n",
    "          6.3.1 Fit the Model\n",
    "          6.3.2 Select parameters\n",
    "          6.3.3 Checking Accuracy score\n",
    "          6.3.4 Classfication report \n",
    "      \n",
    "7. Conclusion"
   ]
  },
  {
   "cell_type": "markdown",
   "id": "e4abf5eb",
   "metadata": {},
   "source": [
    "Need of the Project :"
   ]
  },
  {
   "cell_type": "markdown",
   "id": "3a539961",
   "metadata": {},
   "source": [
    "Accorgding to data from RTI and RBI,\n",
    "    1) A typical organization loses 5% of their yearly revenues to fraud.\n",
    "    2) 2480 cases of fruad in public sector banks involiving Rs 31,898.63 crore.\n",
    "    3) In 2017-18, total of 911 credit card frauds amounting to Rs 65.26 crore.\n",
    "so ,for keeping the customers money safe we are creating ML model to predict the fraud in future transactions. "
   ]
  },
  {
   "cell_type": "markdown",
   "id": "6c289c1c",
   "metadata": {},
   "source": [
    "# 1. Importing the Dependencies"
   ]
  },
  {
   "cell_type": "code",
   "execution_count": 53,
   "id": "326f441e",
   "metadata": {},
   "outputs": [],
   "source": [
    "import numpy as np   # Importing numpy as np for matrix operations\n",
    "import pandas as pd  # Importing pandas library \n",
    "import matplotlib.pyplot as plt   # Using matplotlib library for visualizing data\n",
    "import sklearn        # Importing sklearn library\n",
    "\n",
    "from sklearn.model_selection import train_test_split                #For splitting the model in training and test set\n",
    "from sklearn.metrics import classification_report,accuracy_score    # To check Accuracy of model for comparing different models"
   ]
  },
  {
   "cell_type": "markdown",
   "id": "f63b0743",
   "metadata": {},
   "source": [
    "## 2. Credit Card Data"
   ]
  },
  {
   "cell_type": "markdown",
   "id": "13f7ed3e",
   "metadata": {},
   "source": [
    "#### 2.1 Loading the dataset to the pandas Dataframe"
   ]
  },
  {
   "cell_type": "code",
   "execution_count": 55,
   "id": "a7d77f29",
   "metadata": {},
   "outputs": [],
   "source": [
    "cc_data= pd.read_csv('creditcard.csv')    #Loading the dataset using pandas and naming it as cc_data"
   ]
  },
  {
   "cell_type": "markdown",
   "id": "9b2fdf51",
   "metadata": {},
   "source": [
    "#### 2.2 Visualizing First 5 and Last 5 rows of data set to visualize the data"
   ]
  },
  {
   "cell_type": "code",
   "execution_count": 56,
   "id": "5c432bf6",
   "metadata": {
    "scrolled": false
   },
   "outputs": [
    {
     "data": {
      "text/html": [
       "<div>\n",
       "<style scoped>\n",
       "    .dataframe tbody tr th:only-of-type {\n",
       "        vertical-align: middle;\n",
       "    }\n",
       "\n",
       "    .dataframe tbody tr th {\n",
       "        vertical-align: top;\n",
       "    }\n",
       "\n",
       "    .dataframe thead th {\n",
       "        text-align: right;\n",
       "    }\n",
       "</style>\n",
       "<table border=\"1\" class=\"dataframe\">\n",
       "  <thead>\n",
       "    <tr style=\"text-align: right;\">\n",
       "      <th></th>\n",
       "      <th>Time</th>\n",
       "      <th>V1</th>\n",
       "      <th>V2</th>\n",
       "      <th>V3</th>\n",
       "      <th>V4</th>\n",
       "      <th>V5</th>\n",
       "      <th>V6</th>\n",
       "      <th>V7</th>\n",
       "      <th>V8</th>\n",
       "      <th>V9</th>\n",
       "      <th>...</th>\n",
       "      <th>V21</th>\n",
       "      <th>V22</th>\n",
       "      <th>V23</th>\n",
       "      <th>V24</th>\n",
       "      <th>V25</th>\n",
       "      <th>V26</th>\n",
       "      <th>V27</th>\n",
       "      <th>V28</th>\n",
       "      <th>Amount</th>\n",
       "      <th>Class</th>\n",
       "    </tr>\n",
       "  </thead>\n",
       "  <tbody>\n",
       "    <tr>\n",
       "      <th>0</th>\n",
       "      <td>0.0</td>\n",
       "      <td>-1.359807</td>\n",
       "      <td>-0.072781</td>\n",
       "      <td>2.536347</td>\n",
       "      <td>1.378155</td>\n",
       "      <td>-0.338321</td>\n",
       "      <td>0.462388</td>\n",
       "      <td>0.239599</td>\n",
       "      <td>0.098698</td>\n",
       "      <td>0.363787</td>\n",
       "      <td>...</td>\n",
       "      <td>-0.018307</td>\n",
       "      <td>0.277838</td>\n",
       "      <td>-0.110474</td>\n",
       "      <td>0.066928</td>\n",
       "      <td>0.128539</td>\n",
       "      <td>-0.189115</td>\n",
       "      <td>0.133558</td>\n",
       "      <td>-0.021053</td>\n",
       "      <td>149.62</td>\n",
       "      <td>0</td>\n",
       "    </tr>\n",
       "    <tr>\n",
       "      <th>1</th>\n",
       "      <td>0.0</td>\n",
       "      <td>1.191857</td>\n",
       "      <td>0.266151</td>\n",
       "      <td>0.166480</td>\n",
       "      <td>0.448154</td>\n",
       "      <td>0.060018</td>\n",
       "      <td>-0.082361</td>\n",
       "      <td>-0.078803</td>\n",
       "      <td>0.085102</td>\n",
       "      <td>-0.255425</td>\n",
       "      <td>...</td>\n",
       "      <td>-0.225775</td>\n",
       "      <td>-0.638672</td>\n",
       "      <td>0.101288</td>\n",
       "      <td>-0.339846</td>\n",
       "      <td>0.167170</td>\n",
       "      <td>0.125895</td>\n",
       "      <td>-0.008983</td>\n",
       "      <td>0.014724</td>\n",
       "      <td>2.69</td>\n",
       "      <td>0</td>\n",
       "    </tr>\n",
       "    <tr>\n",
       "      <th>2</th>\n",
       "      <td>1.0</td>\n",
       "      <td>-1.358354</td>\n",
       "      <td>-1.340163</td>\n",
       "      <td>1.773209</td>\n",
       "      <td>0.379780</td>\n",
       "      <td>-0.503198</td>\n",
       "      <td>1.800499</td>\n",
       "      <td>0.791461</td>\n",
       "      <td>0.247676</td>\n",
       "      <td>-1.514654</td>\n",
       "      <td>...</td>\n",
       "      <td>0.247998</td>\n",
       "      <td>0.771679</td>\n",
       "      <td>0.909412</td>\n",
       "      <td>-0.689281</td>\n",
       "      <td>-0.327642</td>\n",
       "      <td>-0.139097</td>\n",
       "      <td>-0.055353</td>\n",
       "      <td>-0.059752</td>\n",
       "      <td>378.66</td>\n",
       "      <td>0</td>\n",
       "    </tr>\n",
       "    <tr>\n",
       "      <th>3</th>\n",
       "      <td>1.0</td>\n",
       "      <td>-0.966272</td>\n",
       "      <td>-0.185226</td>\n",
       "      <td>1.792993</td>\n",
       "      <td>-0.863291</td>\n",
       "      <td>-0.010309</td>\n",
       "      <td>1.247203</td>\n",
       "      <td>0.237609</td>\n",
       "      <td>0.377436</td>\n",
       "      <td>-1.387024</td>\n",
       "      <td>...</td>\n",
       "      <td>-0.108300</td>\n",
       "      <td>0.005274</td>\n",
       "      <td>-0.190321</td>\n",
       "      <td>-1.175575</td>\n",
       "      <td>0.647376</td>\n",
       "      <td>-0.221929</td>\n",
       "      <td>0.062723</td>\n",
       "      <td>0.061458</td>\n",
       "      <td>123.50</td>\n",
       "      <td>0</td>\n",
       "    </tr>\n",
       "    <tr>\n",
       "      <th>4</th>\n",
       "      <td>2.0</td>\n",
       "      <td>-1.158233</td>\n",
       "      <td>0.877737</td>\n",
       "      <td>1.548718</td>\n",
       "      <td>0.403034</td>\n",
       "      <td>-0.407193</td>\n",
       "      <td>0.095921</td>\n",
       "      <td>0.592941</td>\n",
       "      <td>-0.270533</td>\n",
       "      <td>0.817739</td>\n",
       "      <td>...</td>\n",
       "      <td>-0.009431</td>\n",
       "      <td>0.798278</td>\n",
       "      <td>-0.137458</td>\n",
       "      <td>0.141267</td>\n",
       "      <td>-0.206010</td>\n",
       "      <td>0.502292</td>\n",
       "      <td>0.219422</td>\n",
       "      <td>0.215153</td>\n",
       "      <td>69.99</td>\n",
       "      <td>0</td>\n",
       "    </tr>\n",
       "  </tbody>\n",
       "</table>\n",
       "<p>5 rows × 31 columns</p>\n",
       "</div>"
      ],
      "text/plain": [
       "   Time        V1        V2        V3        V4        V5        V6        V7  \\\n",
       "0   0.0 -1.359807 -0.072781  2.536347  1.378155 -0.338321  0.462388  0.239599   \n",
       "1   0.0  1.191857  0.266151  0.166480  0.448154  0.060018 -0.082361 -0.078803   \n",
       "2   1.0 -1.358354 -1.340163  1.773209  0.379780 -0.503198  1.800499  0.791461   \n",
       "3   1.0 -0.966272 -0.185226  1.792993 -0.863291 -0.010309  1.247203  0.237609   \n",
       "4   2.0 -1.158233  0.877737  1.548718  0.403034 -0.407193  0.095921  0.592941   \n",
       "\n",
       "         V8        V9  ...       V21       V22       V23       V24       V25  \\\n",
       "0  0.098698  0.363787  ... -0.018307  0.277838 -0.110474  0.066928  0.128539   \n",
       "1  0.085102 -0.255425  ... -0.225775 -0.638672  0.101288 -0.339846  0.167170   \n",
       "2  0.247676 -1.514654  ...  0.247998  0.771679  0.909412 -0.689281 -0.327642   \n",
       "3  0.377436 -1.387024  ... -0.108300  0.005274 -0.190321 -1.175575  0.647376   \n",
       "4 -0.270533  0.817739  ... -0.009431  0.798278 -0.137458  0.141267 -0.206010   \n",
       "\n",
       "        V26       V27       V28  Amount  Class  \n",
       "0 -0.189115  0.133558 -0.021053  149.62      0  \n",
       "1  0.125895 -0.008983  0.014724    2.69      0  \n",
       "2 -0.139097 -0.055353 -0.059752  378.66      0  \n",
       "3 -0.221929  0.062723  0.061458  123.50      0  \n",
       "4  0.502292  0.219422  0.215153   69.99      0  \n",
       "\n",
       "[5 rows x 31 columns]"
      ]
     },
     "execution_count": 56,
     "metadata": {},
     "output_type": "execute_result"
    }
   ],
   "source": [
    "cc_data.head() #First 5 rows of dataset"
   ]
  },
  {
   "cell_type": "code",
   "execution_count": 57,
   "id": "006f5cd5",
   "metadata": {},
   "outputs": [
    {
     "data": {
      "text/html": [
       "<div>\n",
       "<style scoped>\n",
       "    .dataframe tbody tr th:only-of-type {\n",
       "        vertical-align: middle;\n",
       "    }\n",
       "\n",
       "    .dataframe tbody tr th {\n",
       "        vertical-align: top;\n",
       "    }\n",
       "\n",
       "    .dataframe thead th {\n",
       "        text-align: right;\n",
       "    }\n",
       "</style>\n",
       "<table border=\"1\" class=\"dataframe\">\n",
       "  <thead>\n",
       "    <tr style=\"text-align: right;\">\n",
       "      <th></th>\n",
       "      <th>Time</th>\n",
       "      <th>V1</th>\n",
       "      <th>V2</th>\n",
       "      <th>V3</th>\n",
       "      <th>V4</th>\n",
       "      <th>V5</th>\n",
       "      <th>V6</th>\n",
       "      <th>V7</th>\n",
       "      <th>V8</th>\n",
       "      <th>V9</th>\n",
       "      <th>...</th>\n",
       "      <th>V21</th>\n",
       "      <th>V22</th>\n",
       "      <th>V23</th>\n",
       "      <th>V24</th>\n",
       "      <th>V25</th>\n",
       "      <th>V26</th>\n",
       "      <th>V27</th>\n",
       "      <th>V28</th>\n",
       "      <th>Amount</th>\n",
       "      <th>Class</th>\n",
       "    </tr>\n",
       "  </thead>\n",
       "  <tbody>\n",
       "    <tr>\n",
       "      <th>284802</th>\n",
       "      <td>172786.0</td>\n",
       "      <td>-11.881118</td>\n",
       "      <td>10.071785</td>\n",
       "      <td>-9.834783</td>\n",
       "      <td>-2.066656</td>\n",
       "      <td>-5.364473</td>\n",
       "      <td>-2.606837</td>\n",
       "      <td>-4.918215</td>\n",
       "      <td>7.305334</td>\n",
       "      <td>1.914428</td>\n",
       "      <td>...</td>\n",
       "      <td>0.213454</td>\n",
       "      <td>0.111864</td>\n",
       "      <td>1.014480</td>\n",
       "      <td>-0.509348</td>\n",
       "      <td>1.436807</td>\n",
       "      <td>0.250034</td>\n",
       "      <td>0.943651</td>\n",
       "      <td>0.823731</td>\n",
       "      <td>0.77</td>\n",
       "      <td>0</td>\n",
       "    </tr>\n",
       "    <tr>\n",
       "      <th>284803</th>\n",
       "      <td>172787.0</td>\n",
       "      <td>-0.732789</td>\n",
       "      <td>-0.055080</td>\n",
       "      <td>2.035030</td>\n",
       "      <td>-0.738589</td>\n",
       "      <td>0.868229</td>\n",
       "      <td>1.058415</td>\n",
       "      <td>0.024330</td>\n",
       "      <td>0.294869</td>\n",
       "      <td>0.584800</td>\n",
       "      <td>...</td>\n",
       "      <td>0.214205</td>\n",
       "      <td>0.924384</td>\n",
       "      <td>0.012463</td>\n",
       "      <td>-1.016226</td>\n",
       "      <td>-0.606624</td>\n",
       "      <td>-0.395255</td>\n",
       "      <td>0.068472</td>\n",
       "      <td>-0.053527</td>\n",
       "      <td>24.79</td>\n",
       "      <td>0</td>\n",
       "    </tr>\n",
       "    <tr>\n",
       "      <th>284804</th>\n",
       "      <td>172788.0</td>\n",
       "      <td>1.919565</td>\n",
       "      <td>-0.301254</td>\n",
       "      <td>-3.249640</td>\n",
       "      <td>-0.557828</td>\n",
       "      <td>2.630515</td>\n",
       "      <td>3.031260</td>\n",
       "      <td>-0.296827</td>\n",
       "      <td>0.708417</td>\n",
       "      <td>0.432454</td>\n",
       "      <td>...</td>\n",
       "      <td>0.232045</td>\n",
       "      <td>0.578229</td>\n",
       "      <td>-0.037501</td>\n",
       "      <td>0.640134</td>\n",
       "      <td>0.265745</td>\n",
       "      <td>-0.087371</td>\n",
       "      <td>0.004455</td>\n",
       "      <td>-0.026561</td>\n",
       "      <td>67.88</td>\n",
       "      <td>0</td>\n",
       "    </tr>\n",
       "    <tr>\n",
       "      <th>284805</th>\n",
       "      <td>172788.0</td>\n",
       "      <td>-0.240440</td>\n",
       "      <td>0.530483</td>\n",
       "      <td>0.702510</td>\n",
       "      <td>0.689799</td>\n",
       "      <td>-0.377961</td>\n",
       "      <td>0.623708</td>\n",
       "      <td>-0.686180</td>\n",
       "      <td>0.679145</td>\n",
       "      <td>0.392087</td>\n",
       "      <td>...</td>\n",
       "      <td>0.265245</td>\n",
       "      <td>0.800049</td>\n",
       "      <td>-0.163298</td>\n",
       "      <td>0.123205</td>\n",
       "      <td>-0.569159</td>\n",
       "      <td>0.546668</td>\n",
       "      <td>0.108821</td>\n",
       "      <td>0.104533</td>\n",
       "      <td>10.00</td>\n",
       "      <td>0</td>\n",
       "    </tr>\n",
       "    <tr>\n",
       "      <th>284806</th>\n",
       "      <td>172792.0</td>\n",
       "      <td>-0.533413</td>\n",
       "      <td>-0.189733</td>\n",
       "      <td>0.703337</td>\n",
       "      <td>-0.506271</td>\n",
       "      <td>-0.012546</td>\n",
       "      <td>-0.649617</td>\n",
       "      <td>1.577006</td>\n",
       "      <td>-0.414650</td>\n",
       "      <td>0.486180</td>\n",
       "      <td>...</td>\n",
       "      <td>0.261057</td>\n",
       "      <td>0.643078</td>\n",
       "      <td>0.376777</td>\n",
       "      <td>0.008797</td>\n",
       "      <td>-0.473649</td>\n",
       "      <td>-0.818267</td>\n",
       "      <td>-0.002415</td>\n",
       "      <td>0.013649</td>\n",
       "      <td>217.00</td>\n",
       "      <td>0</td>\n",
       "    </tr>\n",
       "  </tbody>\n",
       "</table>\n",
       "<p>5 rows × 31 columns</p>\n",
       "</div>"
      ],
      "text/plain": [
       "            Time         V1         V2        V3        V4        V5  \\\n",
       "284802  172786.0 -11.881118  10.071785 -9.834783 -2.066656 -5.364473   \n",
       "284803  172787.0  -0.732789  -0.055080  2.035030 -0.738589  0.868229   \n",
       "284804  172788.0   1.919565  -0.301254 -3.249640 -0.557828  2.630515   \n",
       "284805  172788.0  -0.240440   0.530483  0.702510  0.689799 -0.377961   \n",
       "284806  172792.0  -0.533413  -0.189733  0.703337 -0.506271 -0.012546   \n",
       "\n",
       "              V6        V7        V8        V9  ...       V21       V22  \\\n",
       "284802 -2.606837 -4.918215  7.305334  1.914428  ...  0.213454  0.111864   \n",
       "284803  1.058415  0.024330  0.294869  0.584800  ...  0.214205  0.924384   \n",
       "284804  3.031260 -0.296827  0.708417  0.432454  ...  0.232045  0.578229   \n",
       "284805  0.623708 -0.686180  0.679145  0.392087  ...  0.265245  0.800049   \n",
       "284806 -0.649617  1.577006 -0.414650  0.486180  ...  0.261057  0.643078   \n",
       "\n",
       "             V23       V24       V25       V26       V27       V28  Amount  \\\n",
       "284802  1.014480 -0.509348  1.436807  0.250034  0.943651  0.823731    0.77   \n",
       "284803  0.012463 -1.016226 -0.606624 -0.395255  0.068472 -0.053527   24.79   \n",
       "284804 -0.037501  0.640134  0.265745 -0.087371  0.004455 -0.026561   67.88   \n",
       "284805 -0.163298  0.123205 -0.569159  0.546668  0.108821  0.104533   10.00   \n",
       "284806  0.376777  0.008797 -0.473649 -0.818267 -0.002415  0.013649  217.00   \n",
       "\n",
       "        Class  \n",
       "284802      0  \n",
       "284803      0  \n",
       "284804      0  \n",
       "284805      0  \n",
       "284806      0  \n",
       "\n",
       "[5 rows x 31 columns]"
      ]
     },
     "execution_count": 57,
     "metadata": {},
     "output_type": "execute_result"
    }
   ],
   "source": [
    "cc_data.tail() #Last 5 rows of the dataset"
   ]
  },
  {
   "cell_type": "markdown",
   "id": "fc2b6d59",
   "metadata": {},
   "source": [
    "## 3. Data Analysis"
   ]
  },
  {
   "cell_type": "markdown",
   "id": "17bdb576",
   "metadata": {},
   "source": [
    "In Data analysis we will analyze data to discover pattern, trends, missing values in data with the help\n",
    "of statistical summary and graphical representation. It will help us gathering better insights of data to remove irregularities and unnecesarry values from data."
   ]
  },
  {
   "cell_type": "markdown",
   "id": "4d7a6ac9",
   "metadata": {},
   "source": [
    "#### 3.1 Checking Non-null count and type of data in dataframe"
   ]
  },
  {
   "cell_type": "code",
   "execution_count": 58,
   "id": "7ac262d1",
   "metadata": {},
   "outputs": [
    {
     "name": "stdout",
     "output_type": "stream",
     "text": [
      "<class 'pandas.core.frame.DataFrame'>\n",
      "RangeIndex: 284807 entries, 0 to 284806\n",
      "Data columns (total 31 columns):\n",
      " #   Column  Non-Null Count   Dtype  \n",
      "---  ------  --------------   -----  \n",
      " 0   Time    284807 non-null  float64\n",
      " 1   V1      284807 non-null  float64\n",
      " 2   V2      284807 non-null  float64\n",
      " 3   V3      284807 non-null  float64\n",
      " 4   V4      284807 non-null  float64\n",
      " 5   V5      284807 non-null  float64\n",
      " 6   V6      284807 non-null  float64\n",
      " 7   V7      284807 non-null  float64\n",
      " 8   V8      284807 non-null  float64\n",
      " 9   V9      284807 non-null  float64\n",
      " 10  V10     284807 non-null  float64\n",
      " 11  V11     284807 non-null  float64\n",
      " 12  V12     284807 non-null  float64\n",
      " 13  V13     284807 non-null  float64\n",
      " 14  V14     284807 non-null  float64\n",
      " 15  V15     284807 non-null  float64\n",
      " 16  V16     284807 non-null  float64\n",
      " 17  V17     284807 non-null  float64\n",
      " 18  V18     284807 non-null  float64\n",
      " 19  V19     284807 non-null  float64\n",
      " 20  V20     284807 non-null  float64\n",
      " 21  V21     284807 non-null  float64\n",
      " 22  V22     284807 non-null  float64\n",
      " 23  V23     284807 non-null  float64\n",
      " 24  V24     284807 non-null  float64\n",
      " 25  V25     284807 non-null  float64\n",
      " 26  V26     284807 non-null  float64\n",
      " 27  V27     284807 non-null  float64\n",
      " 28  V28     284807 non-null  float64\n",
      " 29  Amount  284807 non-null  float64\n",
      " 30  Class   284807 non-null  int64  \n",
      "dtypes: float64(30), int64(1)\n",
      "memory usage: 67.4 MB\n"
     ]
    }
   ],
   "source": [
    "cc_data.info() # To print all infromation about Dataset"
   ]
  },
  {
   "cell_type": "markdown",
   "id": "0e59142a",
   "metadata": {},
   "source": [
    "#### 3.2 Checking the number of missing values in each column"
   ]
  },
  {
   "cell_type": "code",
   "execution_count": 59,
   "id": "792a274b",
   "metadata": {
    "scrolled": false
   },
   "outputs": [
    {
     "data": {
      "text/plain": [
       "Time      0\n",
       "V1        0\n",
       "V2        0\n",
       "V3        0\n",
       "V4        0\n",
       "V5        0\n",
       "V6        0\n",
       "V7        0\n",
       "V8        0\n",
       "V9        0\n",
       "V10       0\n",
       "V11       0\n",
       "V12       0\n",
       "V13       0\n",
       "V14       0\n",
       "V15       0\n",
       "V16       0\n",
       "V17       0\n",
       "V18       0\n",
       "V19       0\n",
       "V20       0\n",
       "V21       0\n",
       "V22       0\n",
       "V23       0\n",
       "V24       0\n",
       "V25       0\n",
       "V26       0\n",
       "V27       0\n",
       "V28       0\n",
       "Amount    0\n",
       "Class     0\n",
       "dtype: int64"
      ]
     },
     "execution_count": 59,
     "metadata": {},
     "output_type": "execute_result"
    }
   ],
   "source": [
    "cc_data.isnull().sum() #Gives us the sum of number of missing values columnwise in datset"
   ]
  },
  {
   "cell_type": "markdown",
   "id": "5b6f4c4c",
   "metadata": {},
   "source": [
    "#### 3.3 Distribution of Legit Transaction and Fraudulent Transaction"
   ]
  },
  {
   "cell_type": "markdown",
   "id": "5926f5e9",
   "metadata": {},
   "source": [
    "To visualize Class distribution, plotting graph for number of cases of Legit and Fraud transaction"
   ]
  },
  {
   "cell_type": "code",
   "execution_count": 60,
   "id": "c48660e9",
   "metadata": {},
   "outputs": [
    {
     "data": {
      "text/plain": [
       "Text(0, 0.5, 'Frequency')"
      ]
     },
     "execution_count": 60,
     "metadata": {},
     "output_type": "execute_result"
    },
    {
     "data": {
      "image/png": "[encoded data removed]",
      "text/plain": [
       "<Figure size 640x480 with 1 Axes>"
      ]
     },
     "metadata": {},
     "output_type": "display_data"
    }
   ],
   "source": [
    "Class_distribution = pd.value_counts(cc_data['Class'],sort = True)\n",
    "Class_distribution.plot(kind='bar', rot=0)\n",
    "plt.title(\"Class distribution\")\n",
    "plt.xlabel(\"Class\")\n",
    "plt.ylabel(\"Frequency\")"
   ]
  },
  {
   "cell_type": "markdown",
   "id": "8ab0db96",
   "metadata": {},
   "source": [
    "Graph is showing huge different in distribution of categories in Class. \n",
    "0 Class is in huge amount and Class 1 is neglegible as compared to Class 0."
   ]
  },
  {
   "cell_type": "markdown",
   "id": "94af9b0d",
   "metadata": {},
   "source": [
    " Saving Normal Transaction with class 0 as Legit and fraud transaction with class 1 as fraud\n"
   ]
  },
  {
   "cell_type": "code",
   "execution_count": 8,
   "id": "af63389b",
   "metadata": {},
   "outputs": [
    {
     "name": "stdout",
     "output_type": "stream",
     "text": [
      "(284315, 31)\n",
      "(492, 31)\n"
     ]
    }
   ],
   "source": [
    "Legit = cc_data[cc_data.Class == 0]      # Naming Class 0 transactions as Legit\n",
    "fraud = cc_data[cc_data.Class == 1]      # Naming Class 1 transactions as fraud\n",
    "print(Legit.shape)\n",
    "print(fraud.shape)"
   ]
  },
  {
   "cell_type": "markdown",
   "id": "5cb0c682",
   "metadata": {},
   "source": [
    "#### 3.4 Statistical measures for the data"
   ]
  },
  {
   "cell_type": "markdown",
   "id": "0bb26346",
   "metadata": {},
   "source": [
    "This data is completely unbalanced as we are having 284315 examples of one class i.e class 0 ( normal or legit transaction) while 492 examples of other class which is class 1 ( Fraud transaction). If we feed this data for training our algorithm then it will always give us back transaction as normal transaction only. For making it fair we need to balance the data."
   ]
  },
  {
   "cell_type": "markdown",
   "id": "b7612437",
   "metadata": {},
   "source": [
    "To know how different are the amount of money used for the both classes, we will use describe()"
   ]
  },
  {
   "cell_type": "code",
   "execution_count": 9,
   "id": "edecc6f7",
   "metadata": {},
   "outputs": [
    {
     "data": {
      "text/plain": [
       "count    284315.000000\n",
       "mean         88.291022\n",
       "std         250.105092\n",
       "min           0.000000\n",
       "25%           5.650000\n",
       "50%          22.000000\n",
       "75%          77.050000\n",
       "max       25691.160000\n",
       "Name: Amount, dtype: float64"
      ]
     },
     "execution_count": 9,
     "metadata": {},
     "output_type": "execute_result"
    }
   ],
   "source": [
    "Legit.Amount.describe() # To describe legit transactions"
   ]
  },
  {
   "cell_type": "code",
   "execution_count": 61,
   "id": "db5dea6b",
   "metadata": {
    "scrolled": true
   },
   "outputs": [
    {
     "data": {
      "text/plain": [
       "count     492.000000\n",
       "mean      122.211321\n",
       "std       256.683288\n",
       "min         0.000000\n",
       "25%         1.000000\n",
       "50%         9.250000\n",
       "75%       105.890000\n",
       "max      2125.870000\n",
       "Name: Amount, dtype: float64"
      ]
     },
     "execution_count": 61,
     "metadata": {},
     "output_type": "execute_result"
    }
   ],
   "source": [
    "fraud.Amount.describe() # To descrive fraud transaction"
   ]
  },
  {
   "cell_type": "code",
   "execution_count": 11,
   "id": "ad20677a",
   "metadata": {},
   "outputs": [
    {
     "data": {
      "image/png": "[encoded data removed]",
      "text/plain": [
       "<Figure size 640x480 with 2 Axes>"
      ]
     },
     "metadata": {},
     "output_type": "display_data"
    }
   ],
   "source": [
    "# For comparing Amount distiution of Legit and Fraud transaction plotting graph of Amount vs Number of transaction graph\n",
    "fig,(axis1,axis2)=plt.subplots(2,1,sharex=True)\n",
    "fig.suptitle('Class Amount per transaction')\n",
    "axis1.hist(Legit.Amount, bins=50)\n",
    "axis2.hist(fraud.Amount, bins=50)\n",
    "axis1.set_title('Legit Transactoins')\n",
    "axis2.set_title('fraud Transactoins')\n",
    "plt.xlabel('Amount')\n",
    "plt.ylabel('Number of Transactions')\n",
    "plt.show();"
   ]
  },
  {
   "cell_type": "markdown",
   "id": "12a887de",
   "metadata": {},
   "source": [
    "#### 3.5 Comparing the values for both transaction"
   ]
  },
  {
   "cell_type": "markdown",
   "id": "b86d4a30",
   "metadata": {},
   "source": [
    "We are using groupby function to group the data according to its Categories. \n",
    "\n",
    "Here we are using the 0 and 1 in Class column as a Categories. \n",
    "\n",
    "Using mean() will show us the mean value of all data 0(Legit) and 1(Fraud) class. "
   ]
  },
  {
   "cell_type": "code",
   "execution_count": 62,
   "id": "07b0d3da",
   "metadata": {},
   "outputs": [
    {
     "data": {
      "text/html": [
       "<div>\n",
       "<style scoped>\n",
       "    .dataframe tbody tr th:only-of-type {\n",
       "        vertical-align: middle;\n",
       "    }\n",
       "\n",
       "    .dataframe tbody tr th {\n",
       "        vertical-align: top;\n",
       "    }\n",
       "\n",
       "    .dataframe thead th {\n",
       "        text-align: right;\n",
       "    }\n",
       "</style>\n",
       "<table border=\"1\" class=\"dataframe\">\n",
       "  <thead>\n",
       "    <tr style=\"text-align: right;\">\n",
       "      <th></th>\n",
       "      <th>Time</th>\n",
       "      <th>V1</th>\n",
       "      <th>V2</th>\n",
       "      <th>V3</th>\n",
       "      <th>V4</th>\n",
       "      <th>V5</th>\n",
       "      <th>V6</th>\n",
       "      <th>V7</th>\n",
       "      <th>V8</th>\n",
       "      <th>V9</th>\n",
       "      <th>...</th>\n",
       "      <th>V20</th>\n",
       "      <th>V21</th>\n",
       "      <th>V22</th>\n",
       "      <th>V23</th>\n",
       "      <th>V24</th>\n",
       "      <th>V25</th>\n",
       "      <th>V26</th>\n",
       "      <th>V27</th>\n",
       "      <th>V28</th>\n",
       "      <th>Amount</th>\n",
       "    </tr>\n",
       "    <tr>\n",
       "      <th>Class</th>\n",
       "      <th></th>\n",
       "      <th></th>\n",
       "      <th></th>\n",
       "      <th></th>\n",
       "      <th></th>\n",
       "      <th></th>\n",
       "      <th></th>\n",
       "      <th></th>\n",
       "      <th></th>\n",
       "      <th></th>\n",
       "      <th></th>\n",
       "      <th></th>\n",
       "      <th></th>\n",
       "      <th></th>\n",
       "      <th></th>\n",
       "      <th></th>\n",
       "      <th></th>\n",
       "      <th></th>\n",
       "      <th></th>\n",
       "      <th></th>\n",
       "      <th></th>\n",
       "    </tr>\n",
       "  </thead>\n",
       "  <tbody>\n",
       "    <tr>\n",
       "      <th>0</th>\n",
       "      <td>94838.202258</td>\n",
       "      <td>0.008258</td>\n",
       "      <td>-0.006271</td>\n",
       "      <td>0.012171</td>\n",
       "      <td>-0.007860</td>\n",
       "      <td>0.005453</td>\n",
       "      <td>0.002419</td>\n",
       "      <td>0.009637</td>\n",
       "      <td>-0.000987</td>\n",
       "      <td>0.004467</td>\n",
       "      <td>...</td>\n",
       "      <td>-0.000644</td>\n",
       "      <td>-0.001235</td>\n",
       "      <td>-0.000024</td>\n",
       "      <td>0.000070</td>\n",
       "      <td>0.000182</td>\n",
       "      <td>-0.000072</td>\n",
       "      <td>-0.000089</td>\n",
       "      <td>-0.000295</td>\n",
       "      <td>-0.000131</td>\n",
       "      <td>88.291022</td>\n",
       "    </tr>\n",
       "    <tr>\n",
       "      <th>1</th>\n",
       "      <td>80746.806911</td>\n",
       "      <td>-4.771948</td>\n",
       "      <td>3.623778</td>\n",
       "      <td>-7.033281</td>\n",
       "      <td>4.542029</td>\n",
       "      <td>-3.151225</td>\n",
       "      <td>-1.397737</td>\n",
       "      <td>-5.568731</td>\n",
       "      <td>0.570636</td>\n",
       "      <td>-2.581123</td>\n",
       "      <td>...</td>\n",
       "      <td>0.372319</td>\n",
       "      <td>0.713588</td>\n",
       "      <td>0.014049</td>\n",
       "      <td>-0.040308</td>\n",
       "      <td>-0.105130</td>\n",
       "      <td>0.041449</td>\n",
       "      <td>0.051648</td>\n",
       "      <td>0.170575</td>\n",
       "      <td>0.075667</td>\n",
       "      <td>122.211321</td>\n",
       "    </tr>\n",
       "  </tbody>\n",
       "</table>\n",
       "<p>2 rows × 30 columns</p>\n",
       "</div>"
      ],
      "text/plain": [
       "               Time        V1        V2        V3        V4        V5  \\\n",
       "Class                                                                   \n",
       "0      94838.202258  0.008258 -0.006271  0.012171 -0.007860  0.005453   \n",
       "1      80746.806911 -4.771948  3.623778 -7.033281  4.542029 -3.151225   \n",
       "\n",
       "             V6        V7        V8        V9  ...       V20       V21  \\\n",
       "Class                                          ...                       \n",
       "0      0.002419  0.009637 -0.000987  0.004467  ... -0.000644 -0.001235   \n",
       "1     -1.397737 -5.568731  0.570636 -2.581123  ...  0.372319  0.713588   \n",
       "\n",
       "            V22       V23       V24       V25       V26       V27       V28  \\\n",
       "Class                                                                         \n",
       "0     -0.000024  0.000070  0.000182 -0.000072 -0.000089 -0.000295 -0.000131   \n",
       "1      0.014049 -0.040308 -0.105130  0.041449  0.051648  0.170575  0.075667   \n",
       "\n",
       "           Amount  \n",
       "Class              \n",
       "0       88.291022  \n",
       "1      122.211321  \n",
       "\n",
       "[2 rows x 30 columns]"
      ]
     },
     "execution_count": 62,
     "metadata": {},
     "output_type": "execute_result"
    }
   ],
   "source": [
    "cc_data.groupby('Class').mean()"
   ]
  },
  {
   "cell_type": "markdown",
   "id": "d4f7796c",
   "metadata": {},
   "source": [
    "## 4. Data Pre-processing"
   ]
  },
  {
   "cell_type": "markdown",
   "id": "b71f95dd",
   "metadata": {},
   "source": [
    "#### 4.1 Undersampling Normal data "
   ]
  },
  {
   "cell_type": "markdown",
   "id": "87f0d970",
   "metadata": {},
   "source": [
    "Building the sample dataset conatining similar distribution of legit transaction and fraud transaction\n",
    "\n",
    "Undersampling - In undersampling we will Reduce the examples from majority class through scientific algorithm\n",
    "               1) Prototype generation - Use New examples\n",
    "               2) Prototype Selection - Use old examples\n",
    "               \n",
    "Oversampling - Practically generate more synthetic examples of minority class\n",
    "             - Add more examples\n",
    "\n",
    "We are doing Undersampling here.\n",
    "          In this perticular example we will be selecting randomly selecting 492 transaction from 284315 transactions and will \n",
    "          join it with fruadulent transactoin ones we do that we will have 492 normal transaction and 492 normal transaction.\n",
    "          Then it will considered as balanced dataset."
   ]
  },
  {
   "cell_type": "code",
   "execution_count": 63,
   "id": "9ea9dbae",
   "metadata": {},
   "outputs": [],
   "source": [
    "legit_sample = Legit.sample(n=492) # Taking 492 samples from 284315 samples to make the data balance"
   ]
  },
  {
   "cell_type": "markdown",
   "id": "7fa0830e",
   "metadata": {},
   "source": [
    "#### 4.2 Creating new balanced dataset"
   ]
  },
  {
   "cell_type": "markdown",
   "id": "27c681f6",
   "metadata": {},
   "source": [
    " Concatinating two dataframes along the rows to create New balanced dataset"
   ]
  },
  {
   "cell_type": "code",
   "execution_count": 64,
   "id": "f87cb3ae",
   "metadata": {},
   "outputs": [],
   "source": [
    "New_dataset = pd.concat([legit_sample,fraud], axis=0)    # Joining both dataset to creat new balanced dataset"
   ]
  },
  {
   "cell_type": "markdown",
   "id": "8ae7955a",
   "metadata": {},
   "source": [
    "#### 4.3 Analyzing New balance dataset"
   ]
  },
  {
   "cell_type": "markdown",
   "id": "6052441f",
   "metadata": {},
   "source": [
    "Visualizing First 5 and Last 5 rows of data set to visualize the data"
   ]
  },
  {
   "cell_type": "code",
   "execution_count": 65,
   "id": "785e93dc",
   "metadata": {},
   "outputs": [
    {
     "data": {
      "text/html": [
       "<div>\n",
       "<style scoped>\n",
       "    .dataframe tbody tr th:only-of-type {\n",
       "        vertical-align: middle;\n",
       "    }\n",
       "\n",
       "    .dataframe tbody tr th {\n",
       "        vertical-align: top;\n",
       "    }\n",
       "\n",
       "    .dataframe thead th {\n",
       "        text-align: right;\n",
       "    }\n",
       "</style>\n",
       "<table border=\"1\" class=\"dataframe\">\n",
       "  <thead>\n",
       "    <tr style=\"text-align: right;\">\n",
       "      <th></th>\n",
       "      <th>Time</th>\n",
       "      <th>V1</th>\n",
       "      <th>V2</th>\n",
       "      <th>V3</th>\n",
       "      <th>V4</th>\n",
       "      <th>V5</th>\n",
       "      <th>V6</th>\n",
       "      <th>V7</th>\n",
       "      <th>V8</th>\n",
       "      <th>V9</th>\n",
       "      <th>...</th>\n",
       "      <th>V21</th>\n",
       "      <th>V22</th>\n",
       "      <th>V23</th>\n",
       "      <th>V24</th>\n",
       "      <th>V25</th>\n",
       "      <th>V26</th>\n",
       "      <th>V27</th>\n",
       "      <th>V28</th>\n",
       "      <th>Amount</th>\n",
       "      <th>Class</th>\n",
       "    </tr>\n",
       "  </thead>\n",
       "  <tbody>\n",
       "    <tr>\n",
       "      <th>177096</th>\n",
       "      <td>123037.0</td>\n",
       "      <td>2.044985</td>\n",
       "      <td>-0.286515</td>\n",
       "      <td>-0.637887</td>\n",
       "      <td>0.234176</td>\n",
       "      <td>-0.059260</td>\n",
       "      <td>0.239452</td>\n",
       "      <td>-0.553621</td>\n",
       "      <td>-0.025869</td>\n",
       "      <td>1.230720</td>\n",
       "      <td>...</td>\n",
       "      <td>0.160204</td>\n",
       "      <td>0.784573</td>\n",
       "      <td>0.051533</td>\n",
       "      <td>0.157732</td>\n",
       "      <td>0.077915</td>\n",
       "      <td>-0.211734</td>\n",
       "      <td>0.048655</td>\n",
       "      <td>-0.033240</td>\n",
       "      <td>4.99</td>\n",
       "      <td>0</td>\n",
       "    </tr>\n",
       "    <tr>\n",
       "      <th>200280</th>\n",
       "      <td>133370.0</td>\n",
       "      <td>-0.856696</td>\n",
       "      <td>1.749517</td>\n",
       "      <td>2.541024</td>\n",
       "      <td>4.392993</td>\n",
       "      <td>-0.576541</td>\n",
       "      <td>1.124435</td>\n",
       "      <td>-0.385593</td>\n",
       "      <td>0.772866</td>\n",
       "      <td>-1.791860</td>\n",
       "      <td>...</td>\n",
       "      <td>0.063694</td>\n",
       "      <td>0.243746</td>\n",
       "      <td>-0.135725</td>\n",
       "      <td>-0.026069</td>\n",
       "      <td>-0.011349</td>\n",
       "      <td>0.402420</td>\n",
       "      <td>0.261417</td>\n",
       "      <td>0.109829</td>\n",
       "      <td>22.23</td>\n",
       "      <td>0</td>\n",
       "    </tr>\n",
       "    <tr>\n",
       "      <th>94813</th>\n",
       "      <td>65042.0</td>\n",
       "      <td>1.317000</td>\n",
       "      <td>-0.988678</td>\n",
       "      <td>0.438012</td>\n",
       "      <td>-1.029398</td>\n",
       "      <td>-0.871868</td>\n",
       "      <td>0.697161</td>\n",
       "      <td>-1.302355</td>\n",
       "      <td>0.378316</td>\n",
       "      <td>-0.342297</td>\n",
       "      <td>...</td>\n",
       "      <td>0.382180</td>\n",
       "      <td>0.924919</td>\n",
       "      <td>-0.234512</td>\n",
       "      <td>-1.147998</td>\n",
       "      <td>0.415688</td>\n",
       "      <td>0.037979</td>\n",
       "      <td>0.033187</td>\n",
       "      <td>0.001674</td>\n",
       "      <td>39.00</td>\n",
       "      <td>0</td>\n",
       "    </tr>\n",
       "    <tr>\n",
       "      <th>157930</th>\n",
       "      <td>110646.0</td>\n",
       "      <td>-0.509788</td>\n",
       "      <td>0.852221</td>\n",
       "      <td>2.405532</td>\n",
       "      <td>-0.118734</td>\n",
       "      <td>0.182853</td>\n",
       "      <td>-0.246874</td>\n",
       "      <td>0.585291</td>\n",
       "      <td>-0.287392</td>\n",
       "      <td>1.418026</td>\n",
       "      <td>...</td>\n",
       "      <td>-0.292414</td>\n",
       "      <td>-0.360497</td>\n",
       "      <td>-0.288660</td>\n",
       "      <td>-0.100619</td>\n",
       "      <td>0.273428</td>\n",
       "      <td>-0.727076</td>\n",
       "      <td>-0.075002</td>\n",
       "      <td>-0.144465</td>\n",
       "      <td>9.39</td>\n",
       "      <td>0</td>\n",
       "    </tr>\n",
       "    <tr>\n",
       "      <th>199927</th>\n",
       "      <td>133203.0</td>\n",
       "      <td>0.098367</td>\n",
       "      <td>1.044310</td>\n",
       "      <td>-0.310882</td>\n",
       "      <td>-0.634714</td>\n",
       "      <td>0.970286</td>\n",
       "      <td>-0.577149</td>\n",
       "      <td>0.912445</td>\n",
       "      <td>-0.009415</td>\n",
       "      <td>-0.415971</td>\n",
       "      <td>...</td>\n",
       "      <td>-0.275086</td>\n",
       "      <td>-0.643795</td>\n",
       "      <td>0.085926</td>\n",
       "      <td>0.679188</td>\n",
       "      <td>-0.446915</td>\n",
       "      <td>0.084495</td>\n",
       "      <td>0.223828</td>\n",
       "      <td>0.076783</td>\n",
       "      <td>0.89</td>\n",
       "      <td>0</td>\n",
       "    </tr>\n",
       "  </tbody>\n",
       "</table>\n",
       "<p>5 rows × 31 columns</p>\n",
       "</div>"
      ],
      "text/plain": [
       "            Time        V1        V2        V3        V4        V5        V6  \\\n",
       "177096  123037.0  2.044985 -0.286515 -0.637887  0.234176 -0.059260  0.239452   \n",
       "200280  133370.0 -0.856696  1.749517  2.541024  4.392993 -0.576541  1.124435   \n",
       "94813    65042.0  1.317000 -0.988678  0.438012 -1.029398 -0.871868  0.697161   \n",
       "157930  110646.0 -0.509788  0.852221  2.405532 -0.118734  0.182853 -0.246874   \n",
       "199927  133203.0  0.098367  1.044310 -0.310882 -0.634714  0.970286 -0.577149   \n",
       "\n",
       "              V7        V8        V9  ...       V21       V22       V23  \\\n",
       "177096 -0.553621 -0.025869  1.230720  ...  0.160204  0.784573  0.051533   \n",
       "200280 -0.385593  0.772866 -1.791860  ...  0.063694  0.243746 -0.135725   \n",
       "94813  -1.302355  0.378316 -0.342297  ...  0.382180  0.924919 -0.234512   \n",
       "157930  0.585291 -0.287392  1.418026  ... -0.292414 -0.360497 -0.288660   \n",
       "199927  0.912445 -0.009415 -0.415971  ... -0.275086 -0.643795  0.085926   \n",
       "\n",
       "             V24       V25       V26       V27       V28  Amount  Class  \n",
       "177096  0.157732  0.077915 -0.211734  0.048655 -0.033240    4.99      0  \n",
       "200280 -0.026069 -0.011349  0.402420  0.261417  0.109829   22.23      0  \n",
       "94813  -1.147998  0.415688  0.037979  0.033187  0.001674   39.00      0  \n",
       "157930 -0.100619  0.273428 -0.727076 -0.075002 -0.144465    9.39      0  \n",
       "199927  0.679188 -0.446915  0.084495  0.223828  0.076783    0.89      0  \n",
       "\n",
       "[5 rows x 31 columns]"
      ]
     },
     "execution_count": 65,
     "metadata": {},
     "output_type": "execute_result"
    }
   ],
   "source": [
    "New_dataset.head() #First five rows of new balanced dataset"
   ]
  },
  {
   "cell_type": "code",
   "execution_count": 66,
   "id": "012732ae",
   "metadata": {},
   "outputs": [
    {
     "data": {
      "text/html": [
       "<div>\n",
       "<style scoped>\n",
       "    .dataframe tbody tr th:only-of-type {\n",
       "        vertical-align: middle;\n",
       "    }\n",
       "\n",
       "    .dataframe tbody tr th {\n",
       "        vertical-align: top;\n",
       "    }\n",
       "\n",
       "    .dataframe thead th {\n",
       "        text-align: right;\n",
       "    }\n",
       "</style>\n",
       "<table border=\"1\" class=\"dataframe\">\n",
       "  <thead>\n",
       "    <tr style=\"text-align: right;\">\n",
       "      <th></th>\n",
       "      <th>Time</th>\n",
       "      <th>V1</th>\n",
       "      <th>V2</th>\n",
       "      <th>V3</th>\n",
       "      <th>V4</th>\n",
       "      <th>V5</th>\n",
       "      <th>V6</th>\n",
       "      <th>V7</th>\n",
       "      <th>V8</th>\n",
       "      <th>V9</th>\n",
       "      <th>...</th>\n",
       "      <th>V21</th>\n",
       "      <th>V22</th>\n",
       "      <th>V23</th>\n",
       "      <th>V24</th>\n",
       "      <th>V25</th>\n",
       "      <th>V26</th>\n",
       "      <th>V27</th>\n",
       "      <th>V28</th>\n",
       "      <th>Amount</th>\n",
       "      <th>Class</th>\n",
       "    </tr>\n",
       "  </thead>\n",
       "  <tbody>\n",
       "    <tr>\n",
       "      <th>279863</th>\n",
       "      <td>169142.0</td>\n",
       "      <td>-1.927883</td>\n",
       "      <td>1.125653</td>\n",
       "      <td>-4.518331</td>\n",
       "      <td>1.749293</td>\n",
       "      <td>-1.566487</td>\n",
       "      <td>-2.010494</td>\n",
       "      <td>-0.882850</td>\n",
       "      <td>0.697211</td>\n",
       "      <td>-2.064945</td>\n",
       "      <td>...</td>\n",
       "      <td>0.778584</td>\n",
       "      <td>-0.319189</td>\n",
       "      <td>0.639419</td>\n",
       "      <td>-0.294885</td>\n",
       "      <td>0.537503</td>\n",
       "      <td>0.788395</td>\n",
       "      <td>0.292680</td>\n",
       "      <td>0.147968</td>\n",
       "      <td>390.00</td>\n",
       "      <td>1</td>\n",
       "    </tr>\n",
       "    <tr>\n",
       "      <th>280143</th>\n",
       "      <td>169347.0</td>\n",
       "      <td>1.378559</td>\n",
       "      <td>1.289381</td>\n",
       "      <td>-5.004247</td>\n",
       "      <td>1.411850</td>\n",
       "      <td>0.442581</td>\n",
       "      <td>-1.326536</td>\n",
       "      <td>-1.413170</td>\n",
       "      <td>0.248525</td>\n",
       "      <td>-1.127396</td>\n",
       "      <td>...</td>\n",
       "      <td>0.370612</td>\n",
       "      <td>0.028234</td>\n",
       "      <td>-0.145640</td>\n",
       "      <td>-0.081049</td>\n",
       "      <td>0.521875</td>\n",
       "      <td>0.739467</td>\n",
       "      <td>0.389152</td>\n",
       "      <td>0.186637</td>\n",
       "      <td>0.76</td>\n",
       "      <td>1</td>\n",
       "    </tr>\n",
       "    <tr>\n",
       "      <th>280149</th>\n",
       "      <td>169351.0</td>\n",
       "      <td>-0.676143</td>\n",
       "      <td>1.126366</td>\n",
       "      <td>-2.213700</td>\n",
       "      <td>0.468308</td>\n",
       "      <td>-1.120541</td>\n",
       "      <td>-0.003346</td>\n",
       "      <td>-2.234739</td>\n",
       "      <td>1.210158</td>\n",
       "      <td>-0.652250</td>\n",
       "      <td>...</td>\n",
       "      <td>0.751826</td>\n",
       "      <td>0.834108</td>\n",
       "      <td>0.190944</td>\n",
       "      <td>0.032070</td>\n",
       "      <td>-0.739695</td>\n",
       "      <td>0.471111</td>\n",
       "      <td>0.385107</td>\n",
       "      <td>0.194361</td>\n",
       "      <td>77.89</td>\n",
       "      <td>1</td>\n",
       "    </tr>\n",
       "    <tr>\n",
       "      <th>281144</th>\n",
       "      <td>169966.0</td>\n",
       "      <td>-3.113832</td>\n",
       "      <td>0.585864</td>\n",
       "      <td>-5.399730</td>\n",
       "      <td>1.817092</td>\n",
       "      <td>-0.840618</td>\n",
       "      <td>-2.943548</td>\n",
       "      <td>-2.208002</td>\n",
       "      <td>1.058733</td>\n",
       "      <td>-1.632333</td>\n",
       "      <td>...</td>\n",
       "      <td>0.583276</td>\n",
       "      <td>-0.269209</td>\n",
       "      <td>-0.456108</td>\n",
       "      <td>-0.183659</td>\n",
       "      <td>-0.328168</td>\n",
       "      <td>0.606116</td>\n",
       "      <td>0.884876</td>\n",
       "      <td>-0.253700</td>\n",
       "      <td>245.00</td>\n",
       "      <td>1</td>\n",
       "    </tr>\n",
       "    <tr>\n",
       "      <th>281674</th>\n",
       "      <td>170348.0</td>\n",
       "      <td>1.991976</td>\n",
       "      <td>0.158476</td>\n",
       "      <td>-2.583441</td>\n",
       "      <td>0.408670</td>\n",
       "      <td>1.151147</td>\n",
       "      <td>-0.096695</td>\n",
       "      <td>0.223050</td>\n",
       "      <td>-0.068384</td>\n",
       "      <td>0.577829</td>\n",
       "      <td>...</td>\n",
       "      <td>-0.164350</td>\n",
       "      <td>-0.295135</td>\n",
       "      <td>-0.072173</td>\n",
       "      <td>-0.450261</td>\n",
       "      <td>0.313267</td>\n",
       "      <td>-0.289617</td>\n",
       "      <td>0.002988</td>\n",
       "      <td>-0.015309</td>\n",
       "      <td>42.53</td>\n",
       "      <td>1</td>\n",
       "    </tr>\n",
       "  </tbody>\n",
       "</table>\n",
       "<p>5 rows × 31 columns</p>\n",
       "</div>"
      ],
      "text/plain": [
       "            Time        V1        V2        V3        V4        V5        V6  \\\n",
       "279863  169142.0 -1.927883  1.125653 -4.518331  1.749293 -1.566487 -2.010494   \n",
       "280143  169347.0  1.378559  1.289381 -5.004247  1.411850  0.442581 -1.326536   \n",
       "280149  169351.0 -0.676143  1.126366 -2.213700  0.468308 -1.120541 -0.003346   \n",
       "281144  169966.0 -3.113832  0.585864 -5.399730  1.817092 -0.840618 -2.943548   \n",
       "281674  170348.0  1.991976  0.158476 -2.583441  0.408670  1.151147 -0.096695   \n",
       "\n",
       "              V7        V8        V9  ...       V21       V22       V23  \\\n",
       "279863 -0.882850  0.697211 -2.064945  ...  0.778584 -0.319189  0.639419   \n",
       "280143 -1.413170  0.248525 -1.127396  ...  0.370612  0.028234 -0.145640   \n",
       "280149 -2.234739  1.210158 -0.652250  ...  0.751826  0.834108  0.190944   \n",
       "281144 -2.208002  1.058733 -1.632333  ...  0.583276 -0.269209 -0.456108   \n",
       "281674  0.223050 -0.068384  0.577829  ... -0.164350 -0.295135 -0.072173   \n",
       "\n",
       "             V24       V25       V26       V27       V28  Amount  Class  \n",
       "279863 -0.294885  0.537503  0.788395  0.292680  0.147968  390.00      1  \n",
       "280143 -0.081049  0.521875  0.739467  0.389152  0.186637    0.76      1  \n",
       "280149  0.032070 -0.739695  0.471111  0.385107  0.194361   77.89      1  \n",
       "281144 -0.183659 -0.328168  0.606116  0.884876 -0.253700  245.00      1  \n",
       "281674 -0.450261  0.313267 -0.289617  0.002988 -0.015309   42.53      1  \n",
       "\n",
       "[5 rows x 31 columns]"
      ]
     },
     "execution_count": 66,
     "metadata": {},
     "output_type": "execute_result"
    }
   ],
   "source": [
    "New_dataset.tail() #Last five rows of new balanced dataset"
   ]
  },
  {
   "cell_type": "code",
   "execution_count": 67,
   "id": "998842e0",
   "metadata": {},
   "outputs": [
    {
     "data": {
      "text/plain": [
       "0    492\n",
       "1    492\n",
       "Name: Class, dtype: int64"
      ]
     },
     "execution_count": 67,
     "metadata": {},
     "output_type": "execute_result"
    }
   ],
   "source": [
    "New_dataset['Class'].value_counts() #Checking value counts of the both categories in the class column to check balanced dataset"
   ]
  },
  {
   "cell_type": "code",
   "execution_count": 68,
   "id": "621c8eb0",
   "metadata": {},
   "outputs": [
    {
     "data": {
      "text/html": [
       "<div>\n",
       "<style scoped>\n",
       "    .dataframe tbody tr th:only-of-type {\n",
       "        vertical-align: middle;\n",
       "    }\n",
       "\n",
       "    .dataframe tbody tr th {\n",
       "        vertical-align: top;\n",
       "    }\n",
       "\n",
       "    .dataframe thead th {\n",
       "        text-align: right;\n",
       "    }\n",
       "</style>\n",
       "<table border=\"1\" class=\"dataframe\">\n",
       "  <thead>\n",
       "    <tr style=\"text-align: right;\">\n",
       "      <th></th>\n",
       "      <th>Time</th>\n",
       "      <th>V1</th>\n",
       "      <th>V2</th>\n",
       "      <th>V3</th>\n",
       "      <th>V4</th>\n",
       "      <th>V5</th>\n",
       "      <th>V6</th>\n",
       "      <th>V7</th>\n",
       "      <th>V8</th>\n",
       "      <th>V9</th>\n",
       "      <th>...</th>\n",
       "      <th>V20</th>\n",
       "      <th>V21</th>\n",
       "      <th>V22</th>\n",
       "      <th>V23</th>\n",
       "      <th>V24</th>\n",
       "      <th>V25</th>\n",
       "      <th>V26</th>\n",
       "      <th>V27</th>\n",
       "      <th>V28</th>\n",
       "      <th>Amount</th>\n",
       "    </tr>\n",
       "    <tr>\n",
       "      <th>Class</th>\n",
       "      <th></th>\n",
       "      <th></th>\n",
       "      <th></th>\n",
       "      <th></th>\n",
       "      <th></th>\n",
       "      <th></th>\n",
       "      <th></th>\n",
       "      <th></th>\n",
       "      <th></th>\n",
       "      <th></th>\n",
       "      <th></th>\n",
       "      <th></th>\n",
       "      <th></th>\n",
       "      <th></th>\n",
       "      <th></th>\n",
       "      <th></th>\n",
       "      <th></th>\n",
       "      <th></th>\n",
       "      <th></th>\n",
       "      <th></th>\n",
       "      <th></th>\n",
       "    </tr>\n",
       "  </thead>\n",
       "  <tbody>\n",
       "    <tr>\n",
       "      <th>0</th>\n",
       "      <td>97069.676829</td>\n",
       "      <td>0.096025</td>\n",
       "      <td>-0.064371</td>\n",
       "      <td>-0.063403</td>\n",
       "      <td>-0.013817</td>\n",
       "      <td>-0.045538</td>\n",
       "      <td>0.070377</td>\n",
       "      <td>0.038867</td>\n",
       "      <td>-0.008812</td>\n",
       "      <td>0.058748</td>\n",
       "      <td>...</td>\n",
       "      <td>0.048176</td>\n",
       "      <td>-0.010872</td>\n",
       "      <td>0.045095</td>\n",
       "      <td>0.055302</td>\n",
       "      <td>0.025742</td>\n",
       "      <td>0.022764</td>\n",
       "      <td>0.024347</td>\n",
       "      <td>-0.024150</td>\n",
       "      <td>-0.027830</td>\n",
       "      <td>102.616423</td>\n",
       "    </tr>\n",
       "    <tr>\n",
       "      <th>1</th>\n",
       "      <td>80746.806911</td>\n",
       "      <td>-4.771948</td>\n",
       "      <td>3.623778</td>\n",
       "      <td>-7.033281</td>\n",
       "      <td>4.542029</td>\n",
       "      <td>-3.151225</td>\n",
       "      <td>-1.397737</td>\n",
       "      <td>-5.568731</td>\n",
       "      <td>0.570636</td>\n",
       "      <td>-2.581123</td>\n",
       "      <td>...</td>\n",
       "      <td>0.372319</td>\n",
       "      <td>0.713588</td>\n",
       "      <td>0.014049</td>\n",
       "      <td>-0.040308</td>\n",
       "      <td>-0.105130</td>\n",
       "      <td>0.041449</td>\n",
       "      <td>0.051648</td>\n",
       "      <td>0.170575</td>\n",
       "      <td>0.075667</td>\n",
       "      <td>122.211321</td>\n",
       "    </tr>\n",
       "  </tbody>\n",
       "</table>\n",
       "<p>2 rows × 30 columns</p>\n",
       "</div>"
      ],
      "text/plain": [
       "               Time        V1        V2        V3        V4        V5  \\\n",
       "Class                                                                   \n",
       "0      97069.676829  0.096025 -0.064371 -0.063403 -0.013817 -0.045538   \n",
       "1      80746.806911 -4.771948  3.623778 -7.033281  4.542029 -3.151225   \n",
       "\n",
       "             V6        V7        V8        V9  ...       V20       V21  \\\n",
       "Class                                          ...                       \n",
       "0      0.070377  0.038867 -0.008812  0.058748  ...  0.048176 -0.010872   \n",
       "1     -1.397737 -5.568731  0.570636 -2.581123  ...  0.372319  0.713588   \n",
       "\n",
       "            V22       V23       V24       V25       V26       V27       V28  \\\n",
       "Class                                                                         \n",
       "0      0.045095  0.055302  0.025742  0.022764  0.024347 -0.024150 -0.027830   \n",
       "1      0.014049 -0.040308 -0.105130  0.041449  0.051648  0.170575  0.075667   \n",
       "\n",
       "           Amount  \n",
       "Class              \n",
       "0      102.616423  \n",
       "1      122.211321  \n",
       "\n",
       "[2 rows x 30 columns]"
      ]
     },
     "execution_count": 68,
     "metadata": {},
     "output_type": "execute_result"
    }
   ],
   "source": [
    "#To check the mean value's for each categories of the class column of New dataset\n",
    "New_dataset.groupby('Class').mean() "
   ]
  },
  {
   "cell_type": "markdown",
   "id": "501759b7",
   "metadata": {},
   "source": [
    "#### 4.4 Splitting the data into feature and target data"
   ]
  },
  {
   "cell_type": "code",
   "execution_count": 69,
   "id": "a11c8003",
   "metadata": {},
   "outputs": [],
   "source": [
    "X = New_dataset.drop(columns='Class', axis=1) #Saving all columns except Class column as Independent variable X from New_dataset\n",
    "Y = New_dataset['Class']                      #Saving Class column as dependent variable Y from New_dataset"
   ]
  },
  {
   "cell_type": "code",
   "execution_count": 70,
   "id": "b5e28627",
   "metadata": {},
   "outputs": [
    {
     "name": "stdout",
     "output_type": "stream",
     "text": [
      "            Time        V1        V2        V3        V4        V5        V6  \\\n",
      "177096  123037.0  2.044985 -0.286515 -0.637887  0.234176 -0.059260  0.239452   \n",
      "200280  133370.0 -0.856696  1.749517  2.541024  4.392993 -0.576541  1.124435   \n",
      "94813    65042.0  1.317000 -0.988678  0.438012 -1.029398 -0.871868  0.697161   \n",
      "157930  110646.0 -0.509788  0.852221  2.405532 -0.118734  0.182853 -0.246874   \n",
      "199927  133203.0  0.098367  1.044310 -0.310882 -0.634714  0.970286 -0.577149   \n",
      "...          ...       ...       ...       ...       ...       ...       ...   \n",
      "279863  169142.0 -1.927883  1.125653 -4.518331  1.749293 -1.566487 -2.010494   \n",
      "280143  169347.0  1.378559  1.289381 -5.004247  1.411850  0.442581 -1.326536   \n",
      "280149  169351.0 -0.676143  1.126366 -2.213700  0.468308 -1.120541 -0.003346   \n",
      "281144  169966.0 -3.113832  0.585864 -5.399730  1.817092 -0.840618 -2.943548   \n",
      "281674  170348.0  1.991976  0.158476 -2.583441  0.408670  1.151147 -0.096695   \n",
      "\n",
      "              V7        V8        V9  ...       V20       V21       V22  \\\n",
      "177096 -0.553621 -0.025869  1.230720  ... -0.062540  0.160204  0.784573   \n",
      "200280 -0.385593  0.772866 -1.791860  ...  0.337005  0.063694  0.243746   \n",
      "94813  -1.302355  0.378316 -0.342297  ...  0.060020  0.382180  0.924919   \n",
      "157930  0.585291 -0.287392  1.418026  ...  0.109243 -0.292414 -0.360497   \n",
      "199927  0.912445 -0.009415 -0.415971  ...  0.063402 -0.275086 -0.643795   \n",
      "...          ...       ...       ...  ...       ...       ...       ...   \n",
      "279863 -0.882850  0.697211 -2.064945  ...  1.252967  0.778584 -0.319189   \n",
      "280143 -1.413170  0.248525 -1.127396  ...  0.226138  0.370612  0.028234   \n",
      "280149 -2.234739  1.210158 -0.652250  ...  0.247968  0.751826  0.834108   \n",
      "281144 -2.208002  1.058733 -1.632333  ...  0.306271  0.583276 -0.269209   \n",
      "281674  0.223050 -0.068384  0.577829  ... -0.017652 -0.164350 -0.295135   \n",
      "\n",
      "             V23       V24       V25       V26       V27       V28  Amount  \n",
      "177096  0.051533  0.157732  0.077915 -0.211734  0.048655 -0.033240    4.99  \n",
      "200280 -0.135725 -0.026069 -0.011349  0.402420  0.261417  0.109829   22.23  \n",
      "94813  -0.234512 -1.147998  0.415688  0.037979  0.033187  0.001674   39.00  \n",
      "157930 -0.288660 -0.100619  0.273428 -0.727076 -0.075002 -0.144465    9.39  \n",
      "199927  0.085926  0.679188 -0.446915  0.084495  0.223828  0.076783    0.89  \n",
      "...          ...       ...       ...       ...       ...       ...     ...  \n",
      "279863  0.639419 -0.294885  0.537503  0.788395  0.292680  0.147968  390.00  \n",
      "280143 -0.145640 -0.081049  0.521875  0.739467  0.389152  0.186637    0.76  \n",
      "280149  0.190944  0.032070 -0.739695  0.471111  0.385107  0.194361   77.89  \n",
      "281144 -0.456108 -0.183659 -0.328168  0.606116  0.884876 -0.253700  245.00  \n",
      "281674 -0.072173 -0.450261  0.313267 -0.289617  0.002988 -0.015309   42.53  \n",
      "\n",
      "[984 rows x 30 columns]\n"
     ]
    }
   ],
   "source": [
    "print(X)"
   ]
  },
  {
   "cell_type": "code",
   "execution_count": 71,
   "id": "0320d52c",
   "metadata": {},
   "outputs": [
    {
     "name": "stdout",
     "output_type": "stream",
     "text": [
      "177096    0\n",
      "200280    0\n",
      "94813     0\n",
      "157930    0\n",
      "199927    0\n",
      "         ..\n",
      "279863    1\n",
      "280143    1\n",
      "280149    1\n",
      "281144    1\n",
      "281674    1\n",
      "Name: Class, Length: 984, dtype: int64\n"
     ]
    }
   ],
   "source": [
    "print(Y)"
   ]
  },
  {
   "cell_type": "markdown",
   "id": "48764b42",
   "metadata": {},
   "source": [
    "#### 4.5 Feature scaling"
   ]
  },
  {
   "cell_type": "markdown",
   "id": "14757c7a",
   "metadata": {},
   "source": [
    "Feature scaling is the method used to standerdize range of independent variable in fixed range.\n",
    "Feature scaling allows Ml model to give fair weightage to all feature ,\n",
    "Not giving higher weight to higher values and lower weight to lower values irrespective of the unit."
   ]
  },
  {
   "cell_type": "code",
   "execution_count": 72,
   "id": "ee0f2d43",
   "metadata": {},
   "outputs": [],
   "source": [
    "from sklearn.preprocessing import StandardScaler # Importing StandardScaler to standerdize the data\n",
    "scaler = StandardScaler()\n",
    "scaler.fit(New_dataset)                           # Fitting the New_dataset in the StandardScaler\n",
    "scaled_data = scaler.transform(New_dataset)"
   ]
  },
  {
   "cell_type": "markdown",
   "id": "b5e28a72",
   "metadata": {},
   "source": [
    "## 5. Splitting the data"
   ]
  },
  {
   "cell_type": "markdown",
   "id": "4f22a92c",
   "metadata": {},
   "source": [
    "#### 5.1 Splitting the data into training set and test set "
   ]
  },
  {
   "cell_type": "markdown",
   "id": "2e502658",
   "metadata": {},
   "source": [
    "Sliptting the data into training data and test data such that 80% of the data will be train data and 20% of the data will be test data"
   ]
  },
  {
   "cell_type": "code",
   "execution_count": 73,
   "id": "d97e6aee",
   "metadata": {},
   "outputs": [],
   "source": [
    "# Stratify =Y  To split the data in startified fashion\n",
    "\n",
    "X_train, X_test, Y_train, Y_test = train_test_split(X, Y, test_size=0.2 , stratify=Y, random_state=2)"
   ]
  },
  {
   "cell_type": "code",
   "execution_count": 74,
   "id": "6be75593",
   "metadata": {
    "scrolled": true
   },
   "outputs": [
    {
     "name": "stdout",
     "output_type": "stream",
     "text": [
      "(984, 30) (787, 30) (197, 30)\n"
     ]
    }
   ],
   "source": [
    "print(X.shape, X_train.shape, X_test.shape)"
   ]
  },
  {
   "cell_type": "markdown",
   "id": "a3137369",
   "metadata": {},
   "source": [
    "## 6. Models"
   ]
  },
  {
   "cell_type": "code",
   "execution_count": 75,
   "id": "19b89cb3",
   "metadata": {},
   "outputs": [],
   "source": [
    "from sklearn import metrics\n",
    "from sklearn.metrics import confusion_matrix, ConfusionMatrixDisplay, classification_report,f1_score"
   ]
  },
  {
   "cell_type": "markdown",
   "id": "5ee8ab3c",
   "metadata": {},
   "source": [
    "## 6.1 LogisticRegression()"
   ]
  },
  {
   "cell_type": "markdown",
   "id": "3172f735",
   "metadata": {},
   "source": [
    "Logistic Regression is the binary algorithm which is used to predict binary outcome based on a set of independent variable."
   ]
  },
  {
   "cell_type": "markdown",
   "id": "c75516ba",
   "metadata": {},
   "source": [
    "Logistic regression is used for classification problems when the output or dependent variable is categorical.\n",
    "\n",
    "Here , Data is categorized into two categories as Legit and Fraud transaction so we will use Logisctic Regression to predict the data"
   ]
  },
  {
   "cell_type": "markdown",
   "id": "da1fcc9f",
   "metadata": {},
   "source": [
    "#### 6.1.1 Fit the model"
   ]
  },
  {
   "cell_type": "code",
   "execution_count": 76,
   "id": "97592e15",
   "metadata": {},
   "outputs": [],
   "source": [
    "from sklearn.linear_model import LogisticRegression   # Importing Logistic Regression model from sklearn"
   ]
  },
  {
   "cell_type": "code",
   "execution_count": 77,
   "id": "a732ccab",
   "metadata": {},
   "outputs": [],
   "source": [
    "LR_model = LogisticRegression()"
   ]
  },
  {
   "cell_type": "markdown",
   "id": "8dfd6519",
   "metadata": {},
   "source": [
    "Training the Logistic regression model with the training data"
   ]
  },
  {
   "cell_type": "code",
   "execution_count": 78,
   "id": "62639219",
   "metadata": {},
   "outputs": [
    {
     "data": {
      "text/plain": [
       "LogisticRegression()"
      ]
     },
     "execution_count": 78,
     "metadata": {},
     "output_type": "execute_result"
    }
   ],
   "source": [
    "LR_model.fit(X_train, Y_train)       # Fitting X and Y training set in Logistic Regression model"
   ]
  },
  {
   "cell_type": "markdown",
   "id": "ddf1b011",
   "metadata": {},
   "source": [
    "#### 6.1.2 Accuracy and Confusion_matrix for Logistic Regression"
   ]
  },
  {
   "cell_type": "markdown",
   "id": "14cb1d77",
   "metadata": {},
   "source": [
    "Confusion matrix gives us the summery of prediction results for classification problem.\n",
    "It gives the number of value counts for correct and incorrect predictions."
   ]
  },
  {
   "cell_type": "code",
   "execution_count": 79,
   "id": "b6f0409f",
   "metadata": {},
   "outputs": [
    {
     "name": "stdout",
     "output_type": "stream",
     "text": [
      "[[98  1]\n",
      " [15 83]]\n"
     ]
    },
    {
     "data": {
      "text/plain": [
       "0.9187817258883249"
      ]
     },
     "execution_count": 79,
     "metadata": {},
     "output_type": "execute_result"
    }
   ],
   "source": [
    "from sklearn.metrics import confusion_matrix, accuracy_score    # Importing confusion matiz and accuracy score from sklearn\n",
    "Y_pred = LR_model.predict(X_test)                               # predicting the results from X_test set as independent variable\n",
    "cm = confusion_matrix(Y_test, Y_pred)\n",
    "print(cm)                                                       # printing(confusion matix)\n",
    "accuracy_score(Y_test, Y_pred)                                  # printing(accuaracy score) "
   ]
  },
  {
   "cell_type": "markdown",
   "id": "8ef2865d",
   "metadata": {},
   "source": [
    "#### 6.1.3 Classification report"
   ]
  },
  {
   "cell_type": "markdown",
   "id": "4d2107c7",
   "metadata": {},
   "source": [
    "1) We will use the Classification report to evaluate and compare the performance of the all the model. \n",
    "\n",
    "2) In which Precision will show the ratio of true positive to the sum of truw and false positive.\n",
    "\n",
    "3) Recall will show the ratio of true positives to the sum of true positives and false negatives.\n",
    "\n",
    "4) The F1 will show the weighted harmonic mean of precision and recall. \n",
    "The closer the value of the F1 score is to 1.0, the better is the expected performance of the model is.\n",
    "\n",
    "5) Support will show the number of actual occurrences of the class in the dataset.\n",
    "It doesn’t vary between models, it just diagnoses the performance evaluation process."
   ]
  },
  {
   "cell_type": "markdown",
   "id": "5de200da",
   "metadata": {},
   "source": [
    "Using Classification report in Logisctic Regression to evaluate its performance."
   ]
  },
  {
   "cell_type": "code",
   "execution_count": 80,
   "id": "3faa17c5",
   "metadata": {
    "scrolled": false
   },
   "outputs": [
    {
     "name": "stdout",
     "output_type": "stream",
     "text": [
      "              precision    recall  f1-score   support\n",
      "\n",
      "           0       0.99      0.87      0.92       113\n",
      "           1       0.85      0.99      0.91        84\n",
      "\n",
      "    accuracy                           0.92       197\n",
      "   macro avg       0.92      0.93      0.92       197\n",
      "weighted avg       0.93      0.92      0.92       197\n",
      "\n"
     ]
    }
   ],
   "source": [
    "print(classification_report(Y_pred,Y_test))"
   ]
  },
  {
   "cell_type": "markdown",
   "id": "53267dd8",
   "metadata": {},
   "source": [
    "## 6.2 Principle Component Analysis"
   ]
  },
  {
   "cell_type": "markdown",
   "id": "7b114483",
   "metadata": {},
   "source": [
    "PCA (Principle Component Analysis) is one of the dimentionality reduction technique used to deal with high dimensionality.\n",
    "\n",
    "It extracts some important feature to predit the dependent variable and discards less important feature.\n",
    "\n",
    "The main aim of PCA is to reduce the number of features or variables in a dataset and also retainas much \n",
    "information as possible from the actual dataset."
   ]
  },
  {
   "cell_type": "markdown",
   "id": "245033ef",
   "metadata": {},
   "source": [
    "#### 6.2.1 Fit the model"
   ]
  },
  {
   "cell_type": "markdown",
   "id": "3894df40",
   "metadata": {},
   "source": [
    "Taking 2 features as Principle Component from 30 to reduce dimension"
   ]
  },
  {
   "cell_type": "code",
   "execution_count": 81,
   "id": "9d96902c",
   "metadata": {},
   "outputs": [
    {
     "name": "stdout",
     "output_type": "stream",
     "text": [
      "PCA(n_components=2)\n"
     ]
    }
   ],
   "source": [
    "from sklearn.decomposition import PCA   # Importing PCA from sklearn\n",
    "pca = PCA(n_components = 2)\n",
    "print(pca)"
   ]
  },
  {
   "cell_type": "code",
   "execution_count": 82,
   "id": "d0d2c53b",
   "metadata": {},
   "outputs": [
    {
     "data": {
      "text/plain": [
       "PCA(n_components=2)"
      ]
     },
     "execution_count": 82,
     "metadata": {},
     "output_type": "execute_result"
    }
   ],
   "source": [
    "pca.fit(scaled_data) # Fitting the scaled_data (After feature scaling) in tht pca model"
   ]
  },
  {
   "cell_type": "code",
   "execution_count": 83,
   "id": "2695a4d0",
   "metadata": {
    "scrolled": true
   },
   "outputs": [
    {
     "name": "stdout",
     "output_type": "stream",
     "text": [
      "(984, 31)\n"
     ]
    }
   ],
   "source": [
    "x_pca = pca.transform(scaled_data)\n",
    "print(scaled_data.shape)                  # Checking shape of data before dimentionality reduction"
   ]
  },
  {
   "cell_type": "code",
   "execution_count": 84,
   "id": "21d25ce8",
   "metadata": {
    "scrolled": true
   },
   "outputs": [
    {
     "name": "stdout",
     "output_type": "stream",
     "text": [
      "(984, 2)\n"
     ]
    }
   ],
   "source": [
    "print(x_pca.shape)                         # Checking shape of the data after dimensionality reduction using PCA"
   ]
  },
  {
   "cell_type": "markdown",
   "id": "d96c2658",
   "metadata": {},
   "source": [
    "We can see the shape of the data reduced from 31 features to the 2 principle features after dimentionality reduction using PCA"
   ]
  },
  {
   "cell_type": "markdown",
   "id": "c2484110",
   "metadata": {},
   "source": [
    "Sliptting the data into training data and test data such that 80% of the data will be train data and 20% of the data will be test data"
   ]
  },
  {
   "cell_type": "code",
   "execution_count": 85,
   "id": "db7a61e5",
   "metadata": {},
   "outputs": [],
   "source": [
    "X_train, X_test, Y_train, Y_test = train_test_split(x_pca, Y, test_size=0.2 , stratify=Y, random_state=2)"
   ]
  },
  {
   "cell_type": "markdown",
   "id": "a65af116",
   "metadata": {},
   "source": [
    "Applying Logistic Regression model after Dimentinality Reduction through PCA"
   ]
  },
  {
   "cell_type": "code",
   "execution_count": 86,
   "id": "0c6adfd7",
   "metadata": {
    "scrolled": true
   },
   "outputs": [
    {
     "data": {
      "text/plain": [
       "LogisticRegression(random_state=0)"
      ]
     },
     "execution_count": 86,
     "metadata": {},
     "output_type": "execute_result"
    }
   ],
   "source": [
    "from sklearn.linear_model import LogisticRegression\n",
    "classifier = LogisticRegression(random_state = 0)\n",
    "classifier.fit(X_train, Y_train)"
   ]
  },
  {
   "cell_type": "markdown",
   "id": "a8d8d37f",
   "metadata": {},
   "source": [
    "#### 6.2.2 Accuracy of PCA"
   ]
  },
  {
   "cell_type": "markdown",
   "id": "d4deb7a7",
   "metadata": {},
   "source": [
    "Checking Accuracy score and confusion matrix for PCA"
   ]
  },
  {
   "cell_type": "code",
   "execution_count": 87,
   "id": "e18752e6",
   "metadata": {},
   "outputs": [
    {
     "name": "stdout",
     "output_type": "stream",
     "text": [
      "[[98  1]\n",
      " [11 87]]\n"
     ]
    },
    {
     "data": {
      "text/plain": [
       "0.9390862944162437"
      ]
     },
     "execution_count": 87,
     "metadata": {},
     "output_type": "execute_result"
    }
   ],
   "source": [
    "from sklearn.metrics import confusion_matrix, accuracy_score        # importing confusion matrix and accuracy score from sklearn\n",
    "y_pred = classifier.predict(X_test)                                 # Predicting results using LogisticRegression \n",
    "cm = confusion_matrix(Y_test, y_pred)                               # Printing confusion matrix\n",
    "print(cm)\n",
    "accuracy_score(Y_test, y_pred)"
   ]
  },
  {
   "cell_type": "markdown",
   "id": "1664b83d",
   "metadata": {},
   "source": [
    "#### 6.2.3 Classification report"
   ]
  },
  {
   "cell_type": "markdown",
   "id": "27f51c8e",
   "metadata": {},
   "source": [
    "Using Classification report in Logisctic Regression with PCA to evaluate its performance."
   ]
  },
  {
   "cell_type": "code",
   "execution_count": 88,
   "id": "2fee09ec",
   "metadata": {},
   "outputs": [
    {
     "name": "stdout",
     "output_type": "stream",
     "text": [
      "              precision    recall  f1-score   support\n",
      "\n",
      "           0       0.99      0.87      0.92       113\n",
      "           1       0.85      0.99      0.91        84\n",
      "\n",
      "    accuracy                           0.92       197\n",
      "   macro avg       0.92      0.93      0.92       197\n",
      "weighted avg       0.93      0.92      0.92       197\n",
      "\n"
     ]
    }
   ],
   "source": [
    "print(classification_report(Y_pred,Y_test))"
   ]
  },
  {
   "cell_type": "markdown",
   "id": "61110f2b",
   "metadata": {},
   "source": [
    "## 6.3 Using Decision tree"
   ]
  },
  {
   "cell_type": "markdown",
   "id": "3881a518",
   "metadata": {},
   "source": [
    "1) Decision Tree Analysis is a general, predictive modelling tool.\n",
    "\n",
    "2) In general, decision trees are constructed via an algorithmic approach that identifies ways to split a data set based on\n",
    "different conditions.\n",
    "\n",
    "3) The goal of decision tree is to create a model that predicts the value of a target variable by learning simple decision rules inferred from the data features.\n",
    "\n",
    "4) The decision rules are generally in form of if-then-else statements."
   ]
  },
  {
   "cell_type": "markdown",
   "id": "e78e931a",
   "metadata": {},
   "source": [
    "#### 6.3.1 Fit the Model"
   ]
  },
  {
   "cell_type": "code",
   "execution_count": 89,
   "id": "1a61163d",
   "metadata": {},
   "outputs": [],
   "source": [
    "from sklearn.tree import DecisionTreeClassifier           #Importing Decision tree model from sklearn"
   ]
  },
  {
   "cell_type": "code",
   "execution_count": 90,
   "id": "43a43c93",
   "metadata": {},
   "outputs": [],
   "source": [
    "treemodel=DecisionTreeClassifier()                        # Saving DecisionTreeClassifier as treemodel"
   ]
  },
  {
   "cell_type": "code",
   "execution_count": 91,
   "id": "663a1734",
   "metadata": {},
   "outputs": [
    {
     "data": {
      "text/plain": [
       "DecisionTreeClassifier()"
      ]
     },
     "execution_count": 91,
     "metadata": {},
     "output_type": "execute_result"
    }
   ],
   "source": [
    "treemodel.fit(X_train,Y_train)                            # fitting X and Y training dataset in Decision tree model"
   ]
  },
  {
   "cell_type": "markdown",
   "id": "37d15de8",
   "metadata": {},
   "source": [
    "#### 6.3.2 Pre-prunning"
   ]
  },
  {
   "cell_type": "markdown",
   "id": "3a7f2c23",
   "metadata": {},
   "source": [
    "1) Pre-prunnung is method that can help us avoid overfitting. \n",
    "\n",
    "2) It helps in improving the performance of the tree by cutting the nodes or sub-nodes which are not significant.\n",
    "\n",
    "3) It removes the branches which have very low importance.\n",
    "\n",
    "4) We will select the parameters for removing branches of low importance. Our parameters for selecting branches wiil be\n",
    "    criterion, splitter, max_depth and max_features."
   ]
  },
  {
   "cell_type": "code",
   "execution_count": 92,
   "id": "b4c9cfa1",
   "metadata": {},
   "outputs": [],
   "source": [
    "#Preprunning decision tree\n",
    "parameter={\n",
    "    'criterion':['gini','entropy','log_loss'],\n",
    "    'splitter':['best','random'],\n",
    "    'max_depth' : [1,2,3,4,5],\n",
    "    'max_features':['auto','sqrt','log2']\n",
    "     }"
   ]
  },
  {
   "cell_type": "code",
   "execution_count": 93,
   "id": "4d7297e3",
   "metadata": {},
   "outputs": [],
   "source": [
    "# GridSearchCV is used for finding the optimal parameter values from a given set of parameters in a grid.\n",
    "from sklearn.model_selection import GridSearchCV"
   ]
  },
  {
   "cell_type": "code",
   "execution_count": 94,
   "id": "c71f3abb",
   "metadata": {},
   "outputs": [],
   "source": [
    "treemodel=DecisionTreeClassifier()\n",
    "cv=GridSearchCV(treemodel,param_grid=parameter,cv=5,scoring='accuracy')"
   ]
  },
  {
   "cell_type": "code",
   "execution_count": 95,
   "id": "5b329f4d",
   "metadata": {},
   "outputs": [
    {
     "name": "stderr",
     "output_type": "stream",
     "text": [
      "C:\\Users\\Dell\\anaconda3\\lib\\site-packages\\sklearn\\model_selection\\_validation.py:372: FitFailedWarning: \n",
      "150 fits failed out of a total of 450.\n",
      "The score on these train-test partitions for these parameters will be set to nan.\n",
      "If these failures are not expected, you can try to debug them by setting error_score='raise'.\n",
      "\n",
      "Below are more details about the failures:\n",
      "--------------------------------------------------------------------------------\n",
      "150 fits failed with the following error:\n",
      "Traceback (most recent call last):\n",
      "  File \"C:\\Users\\Dell\\anaconda3\\lib\\site-packages\\sklearn\\model_selection\\_validation.py\", line 680, in _fit_and_score\n",
      "    estimator.fit(X_train, y_train, **fit_params)\n",
      "  File \"C:\\Users\\Dell\\anaconda3\\lib\\site-packages\\sklearn\\tree\\_classes.py\", line 937, in fit\n",
      "    super().fit(\n",
      "  File \"C:\\Users\\Dell\\anaconda3\\lib\\site-packages\\sklearn\\tree\\_classes.py\", line 352, in fit\n",
      "    criterion = CRITERIA_CLF[self.criterion](\n",
      "KeyError: 'log_loss'\n",
      "\n",
      "  warnings.warn(some_fits_failed_message, FitFailedWarning)\n",
      "C:\\Users\\Dell\\anaconda3\\lib\\site-packages\\sklearn\\model_selection\\_search.py:969: UserWarning: One or more of the test scores are non-finite: [0.88461663 0.53492703 0.9111989  0.60997339 0.79400145 0.61731839\n",
      " 0.9111989  0.62408288 0.90968314 0.72950093 0.83098444 0.6861082\n",
      " 0.9504636  0.76612916 0.94536806 0.80066113 0.90205595 0.59832299\n",
      " 0.884407   0.77228896 0.94027251 0.91618963 0.94026445 0.79028461\n",
      " 0.92246231 0.838531   0.94539224 0.84353785 0.94666613 0.82843667\n",
      " 0.82456664 0.56154156 0.82838829 0.6199871  0.86383133 0.54139321\n",
      " 0.86892687 0.67613481 0.94790776 0.68864791 0.94663388 0.75198742\n",
      " 0.92005966 0.66084818 0.94281222 0.68088366 0.92879948 0.68741434\n",
      " 0.94281222 0.78139966 0.92639684 0.89088124 0.9289043  0.76893494\n",
      " 0.90459566 0.80281384 0.92880755 0.85751834 0.92753366 0.82103523\n",
      "        nan        nan        nan        nan        nan        nan\n",
      "        nan        nan        nan        nan        nan        nan\n",
      "        nan        nan        nan        nan        nan        nan\n",
      "        nan        nan        nan        nan        nan        nan\n",
      "        nan        nan        nan        nan        nan        nan]\n",
      "  warnings.warn(\n"
     ]
    },
    {
     "data": {
      "text/plain": [
       "GridSearchCV(cv=5, estimator=DecisionTreeClassifier(),\n",
       "             param_grid={'criterion': ['gini', 'entropy', 'log_loss'],\n",
       "                         'max_depth': [1, 2, 3, 4, 5],\n",
       "                         'max_features': ['auto', 'sqrt', 'log2'],\n",
       "                         'splitter': ['best', 'random']},\n",
       "             scoring='accuracy')"
      ]
     },
     "execution_count": 95,
     "metadata": {},
     "output_type": "execute_result"
    }
   ],
   "source": [
    "cv.fit(X_train,Y_train)         #Fitting X and Y training dataset in model"
   ]
  },
  {
   "cell_type": "code",
   "execution_count": 98,
   "id": "4d6a781f",
   "metadata": {},
   "outputs": [
    {
     "data": {
      "text/plain": [
       "{'criterion': 'gini',\n",
       " 'max_depth': 3,\n",
       " 'max_features': 'auto',\n",
       " 'splitter': 'best'}"
      ]
     },
     "execution_count": 98,
     "metadata": {},
     "output_type": "execute_result"
    }
   ],
   "source": [
    "cv.best_params_               # To know the best parameters for particular decision tree model"
   ]
  },
  {
   "cell_type": "markdown",
   "id": "973dbb89",
   "metadata": {},
   "source": [
    "#### 6.3.3. Checking Accuracy score"
   ]
  },
  {
   "cell_type": "code",
   "execution_count": 99,
   "id": "a9d02a5a",
   "metadata": {},
   "outputs": [],
   "source": [
    "Y_pred=cv.predict(X_test)                 # Predicting the results of decision tree model"
   ]
  },
  {
   "cell_type": "code",
   "execution_count": 48,
   "id": "c32c0c67",
   "metadata": {},
   "outputs": [],
   "source": [
    "from sklearn.metrics import accuracy_score,classification_report"
   ]
  },
  {
   "cell_type": "code",
   "execution_count": 100,
   "id": "a030ef2a",
   "metadata": {},
   "outputs": [
    {
     "name": "stdout",
     "output_type": "stream",
     "text": [
      "0.949238578680203\n"
     ]
    }
   ],
   "source": [
    "score=accuracy_score(Y_pred,Y_test)       # Checking the accuracy of decision tree model\n",
    "print(score)"
   ]
  },
  {
   "cell_type": "markdown",
   "id": "7737f636",
   "metadata": {},
   "source": [
    "#### 6.3.4 Classification report"
   ]
  },
  {
   "cell_type": "markdown",
   "id": "d81efdba",
   "metadata": {},
   "source": [
    "Using Classification report in Decision Tree to evaluate its performance."
   ]
  },
  {
   "cell_type": "code",
   "execution_count": 101,
   "id": "64d3a3f5",
   "metadata": {},
   "outputs": [
    {
     "name": "stdout",
     "output_type": "stream",
     "text": [
      "              precision    recall  f1-score   support\n",
      "\n",
      "           0       0.97      0.93      0.95       103\n",
      "           1       0.93      0.97      0.95        94\n",
      "\n",
      "    accuracy                           0.95       197\n",
      "   macro avg       0.95      0.95      0.95       197\n",
      "weighted avg       0.95      0.95      0.95       197\n",
      "\n"
     ]
    }
   ],
   "source": [
    "print(classification_report(Y_pred,Y_test))"
   ]
  },
  {
   "cell_type": "markdown",
   "id": "3dc9e6e8",
   "metadata": {},
   "source": [
    "# 7. Conclusion\n",
    "\n",
    "             Model                         Accuracy\n",
    "    \n",
    "1)   Logistic Regression                     0.918            \n",
    "\n",
    "2)   Principle Component Analysis            0.939\n",
    "     with LogisticRegression\n",
    "    \n",
    "3)   Decision Tree                           0.949"
   ]
  },
  {
   "cell_type": "markdown",
   "id": "1267bd25",
   "metadata": {},
   "source": [
    "Among all three models Logistic Regression is giving lowest accuracy while Decision tree model is giving highest accuracy of 94.9 %."
   ]
  },
  {
   "cell_type": "markdown",
   "id": "3c587520",
   "metadata": {},
   "source": [
    "Thanks and Regards.\n",
    "(WIDS team and Mentor Meet Joshi) from Pranit Chute. \n",
    "\n"
   ]
  }
 ],
 "metadata": {
  "kernelspec": {
   "display_name": "Python 3 (ipykernel)",
   "language": "python",
   "name": "python3"
  },
  "language_info": {
   "codemirror_mode": {
    "name": "ipython",
    "version": 3
   },
   "file_extension": ".py",
   "mimetype": "text/x-python",
   "name": "python",
   "nbconvert_exporter": "python",
   "pygments_lexer": "ipython3",
   "version": "3.9.13"
  }
 },
 "nbformat": 4,
 "nbformat_minor": 5
}
